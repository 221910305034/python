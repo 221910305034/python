{
 "cells": [
  {
   "cell_type": "markdown",
   "metadata": {},
   "source": [
    "## Conditional Control Statements: If, Else, Elif\n",
    "### Loops: While,For\n",
    "\n",
    "#### Functions: To check whether the given number is perfectly multiple of 3 and 5"
   ]
  },
  {
   "cell_type": "code",
   "execution_count": 4,
   "metadata": {},
   "outputs": [
    {
     "name": "stdout",
     "output_type": "stream",
     "text": [
      "enter a number 25\n",
      "the given number is not a multiple of 3 and 5\n"
     ]
    }
   ],
   "source": [
    "n=int(input(\"enter a number \"))\n",
    "if n%3==0 and n%5==0:\n",
    "    print(\"the given number is a multiple of 3 and 5\")\n",
    "else:\n",
    "    print(\"the given number is not a multiple of 3 and 5\")"
   ]
  },
  {
   "cell_type": "markdown",
   "metadata": {},
   "source": [
    "### Test if given number is positive, negative or zero"
   ]
  },
  {
   "cell_type": "code",
   "execution_count": 8,
   "metadata": {},
   "outputs": [
    {
     "name": "stdout",
     "output_type": "stream",
     "text": [
      "enter value0\n",
      "the given number is zero\n"
     ]
    }
   ],
   "source": [
    "x=int(input(\"enter value \"))\n",
    "if x>0:\n",
    "    print(\"the given number is positive\")\n",
    "elif x<0:\n",
    "    print(\"the given number is negative\")\n",
    "else:\n",
    "    print(\"the given number is zero\")"
   ]
  },
  {
   "cell_type": "markdown",
   "metadata": {},
   "source": [
    "### Age--->18-85--->eligible for voting\n",
    "### ---->not eligible for voting\n",
    "#### --->45-eligible 10-not eligible 90-not eligible"
   ]
  },
  {
   "cell_type": "code",
   "execution_count": 10,
   "metadata": {},
   "outputs": [
    {
     "name": "stdout",
     "output_type": "stream",
     "text": [
      "enter the age of the person 15\n",
      "not eligible for voting\n"
     ]
    }
   ],
   "source": [
    "n=int(input(\"enter the age of the person \"))\n",
    "if n>=18 and n<=85:\n",
    "    print(\"eligible for voting\")\n",
    "else:\n",
    "    print(\"not eligible for voting\")"
   ]
  },
  {
   "cell_type": "markdown",
   "metadata": {},
   "source": [
    "### Write a progam to find the largest of the 3 numbers\n",
    "#### input:34,56,12--->output:56"
   ]
  },
  {
   "cell_type": "code",
   "execution_count": 13,
   "metadata": {},
   "outputs": [
    {
     "name": "stdout",
     "output_type": "stream",
     "text": [
      "enter 1st number 34\n",
      "enter 2nd number 56\n",
      "enter 3rd number 12\n",
      "2nd number is greatest\n"
     ]
    }
   ],
   "source": [
    "x=int(input(\"enter 1st number \"))\n",
    "y=int(input(\"enter 2nd number \"))\n",
    "z=int(input(\"enter 3rd number \"))\n",
    "if x>y and x>z:\n",
    "    print(\"1st number is greatest\")\n",
    "elif y>x and y>z:\n",
    "    print(\"2nd number is greatest\")\n",
    "else:\n",
    "    print(\"3rd number is greatest\")"
   ]
  },
  {
   "cell_type": "markdown",
   "metadata": {},
   "source": [
    "### Find whether the given value is a leap year or not"
   ]
  },
  {
   "cell_type": "code",
   "execution_count": null,
   "metadata": {},
   "outputs": [],
   "source": []
  },
  {
   "cell_type": "markdown",
   "metadata": {},
   "source": [
    "## Loops: While, For\n",
    "### Syntax:\n",
    "#### While conditions:"
   ]
  },
  {
   "cell_type": "code",
   "execution_count": 17,
   "metadata": {},
   "outputs": [
    {
     "name": "stdout",
     "output_type": "stream",
     "text": [
      "enter n value 10\n",
      "1\n",
      "2\n",
      "3\n",
      "4\n",
      "5\n",
      "6\n",
      "7\n",
      "8\n",
      "9\n",
      "10\n"
     ]
    }
   ],
   "source": [
    "i=1\n",
    "n=int(input(\"enter n value \"))\n",
    "while i<=n:\n",
    "    print(i)\n",
    "    i=i+1"
   ]
  },
  {
   "cell_type": "code",
   "execution_count": 2,
   "metadata": {},
   "outputs": [
    {
     "name": "stdout",
     "output_type": "stream",
     "text": [
      "enter name Hale\n",
      "Hale\n",
      "Hale\n",
      "Hale\n",
      "Hale\n",
      "Hale\n"
     ]
    }
   ],
   "source": [
    "i=1\n",
    "n=input(\"enter name \")\n",
    "while i<=5:\n",
    "    print(n)\n",
    "    i=i+1"
   ]
  },
  {
   "cell_type": "code",
   "execution_count": null,
   "metadata": {},
   "outputs": [],
   "source": []
  }
 ],
 "metadata": {
  "kernelspec": {
   "display_name": "Python 3",
   "language": "python",
   "name": "python3"
  },
  "language_info": {
   "codemirror_mode": {
    "name": "ipython",
    "version": 3
   },
   "file_extension": ".py",
   "mimetype": "text/x-python",
   "name": "python",
   "nbconvert_exporter": "python",
   "pygments_lexer": "ipython3",
   "version": "3.7.3"
  }
 },
 "nbformat": 4,
 "nbformat_minor": 2
}
