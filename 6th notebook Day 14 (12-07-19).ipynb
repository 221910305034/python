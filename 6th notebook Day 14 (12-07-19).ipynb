{
 "cells": [
  {
   "cell_type": "markdown",
   "metadata": {},
   "source": [
    "### string built in methods\n",
    "### 1.capitalize\n",
    "### 2.center(width,fillchar)\n",
    "### 3.count(sub,start,end)\n",
    "### 4.index()\n",
    "### 5.lower()\n",
    "### 6.upper()\n",
    "### 7.isalpha()--->true for only letters\n",
    "### 8.isdigit()--->true for only digits\n",
    "### 9.isalnum()-->true for both alphabets and numbers, only alphabets, and only numbers BUT false for special characters\n",
    "### 10.replace(old,new,count)"
   ]
  },
  {
   "cell_type": "code",
   "execution_count": 44,
   "metadata": {},
   "outputs": [
    {
     "name": "stdout",
     "output_type": "stream",
     "text": [
      "Abcabc123\n",
      "$abcABC123$\n",
      "1\n",
      "2\n",
      "8\n",
      "abcabc123\n",
      "ABCABC123\n",
      "ABCabc123\n",
      "ABC\n",
      "True\n",
      "False\n",
      "True\n",
      "False\n",
      "True\n",
      "True\n",
      "True\n",
      "False\n"
     ]
    }
   ],
   "source": [
    "str=\"abcABC123\"\n",
    "str1=\"abc\"\n",
    "str2=\"123\"\n",
    "str3=\"@#$\"\n",
    "str4=\"abcABCABCabcABC123123\"\n",
    "print(str.capitalize())\n",
    "print(str.center(11,'$'))\n",
    "print(str.count('abc'))\n",
    "print(str4.count('abcABC'))\n",
    "print(str.index('3'))\n",
    "print(str.lower())\n",
    "print(str.upper())\n",
    "print(str.swapcase())\n",
    "print(str1.swapcase())\n",
    "print(str1.isalpha())\n",
    "print(str.isalpha())\n",
    "print(str2.isdigit())\n",
    "print(str.isdigit())\n",
    "print(str.isalnum())\n",
    "print(str1.isalnum())\n",
    "print(str2.isalnum())\n",
    "print(str3.isalnum())"
   ]
  },
  {
   "cell_type": "code",
   "execution_count": 42,
   "metadata": {},
   "outputs": [
    {
     "name": "stdout",
     "output_type": "stream",
     "text": [
      "Ab#Ab#aB#abC\n",
      "12\n",
      "['AbcAbcaBcabC']\n"
     ]
    }
   ],
   "source": [
    "str=\"AbcAbcaBcabC\"\n",
    "print(str.replace('c','#',3))\n",
    "print(len(str))\n",
    "print(str.split())"
   ]
  },
  {
   "cell_type": "markdown",
   "metadata": {},
   "source": [
    "## Find out length of a string without using len()"
   ]
  },
  {
   "cell_type": "code",
   "execution_count": 43,
   "metadata": {},
   "outputs": [
    {
     "name": "stdout",
     "output_type": "stream",
     "text": [
      "9\n",
      "3\n"
     ]
    }
   ],
   "source": [
    "def length(str):\n",
    "    count=0\n",
    "    for i in str:\n",
    "        count+=1\n",
    "    return count\n",
    "print(length(\"abcABC123\"))\n",
    "print(length('xyz'))"
   ]
  },
  {
   "cell_type": "markdown",
   "metadata": {},
   "source": [
    "## function to find out sum of all the digits in a string\n",
    "### input: \"abc1234ABC\"\n",
    "### output:1+2+3+4=10"
   ]
  },
  {
   "cell_type": "code",
   "execution_count": 48,
   "metadata": {},
   "outputs": [
    {
     "name": "stdout",
     "output_type": "stream",
     "text": [
      "6\n",
      "21\n"
     ]
    }
   ],
   "source": [
    "def sum_of_digits(str):\n",
    "    sum=0\n",
    "    for i in str:\n",
    "        if i.isdigit():\n",
    "            sum=sum+int(i)\n",
    "    return sum \n",
    "print(sum_of_digits(\"abc123\"))\n",
    "print(sum_of_digits(\"123456\"))"
   ]
  },
  {
   "cell_type": "markdown",
   "metadata": {},
   "source": [
    "## List:\n",
    "### 1.collectio of elements of any datatypes\n",
    "### 2.enclosed in [ ]\n",
    "### 3.each and every element should be separated using ','\n",
    "### 4.list are mutable(changeable)\n",
    "### 5.allows duplicate values"
   ]
  },
  {
   "cell_type": "code",
   "execution_count": 51,
   "metadata": {},
   "outputs": [
    {
     "name": "stdout",
     "output_type": "stream",
     "text": [
      "<class 'list'>\n",
      "[1, 2, 3, 4, 5, 6]\n"
     ]
    }
   ],
   "source": [
    "list=[1,2,3,4,5,6,]\n",
    "print(type(list))\n",
    "print(list)"
   ]
  },
  {
   "cell_type": "code",
   "execution_count": null,
   "metadata": {},
   "outputs": [],
   "source": [
    "str=assessment\n"
   ]
  }
 ],
 "metadata": {
  "kernelspec": {
   "display_name": "Python 3",
   "language": "python",
   "name": "python3"
  },
  "language_info": {
   "codemirror_mode": {
    "name": "ipython",
    "version": 3
   },
   "file_extension": ".py",
   "mimetype": "text/x-python",
   "name": "python",
   "nbconvert_exporter": "python",
   "pygments_lexer": "ipython3",
   "version": "3.7.3"
  }
 },
 "nbformat": 4,
 "nbformat_minor": 2
}
