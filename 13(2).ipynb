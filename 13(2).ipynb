{
 "cells": [
  {
   "cell_type": "code",
   "execution_count": 1,
   "metadata": {},
   "outputs": [
    {
     "name": "stdout",
     "output_type": "stream",
     "text": [
      "4.0\n",
      "120\n",
      "1.0\n",
      "6\n"
     ]
    }
   ],
   "source": [
    "from math import*\n",
    "print(sqrt(16))\n",
    "print(factorial(5))\n",
    "print(fmod(4,3))\n",
    "print(gcd(24,18))"
   ]
  },
  {
   "cell_type": "code",
   "execution_count": 2,
   "metadata": {},
   "outputs": [
    {
     "name": "stdout",
     "output_type": "stream",
     "text": [
      "Thu Jul 11 11:08:14 2019\n",
      "2379.345542312\n",
      "Thu Jul 11 11:08:14 2019\n"
     ]
    },
    {
     "name": "stderr",
     "output_type": "stream",
     "text": [
      "C:\\Users\\autocad\\Anaconda3\\lib\\site-packages\\ipykernel_launcher.py:3: DeprecationWarning: time.clock has been deprecated in Python 3.3 and will be removed from Python 3.8: use time.perf_counter or time.process_time instead\n",
      "  This is separate from the ipykernel package so we can avoid doing imports until\n"
     ]
    }
   ],
   "source": [
    "import time\n",
    "print(time.asctime())\n",
    "print(time.clock())\n",
    "print(time.ctime())"
   ]
  },
  {
   "cell_type": "markdown",
   "metadata": {},
   "source": [
    "## Iterators: string,list,tuple,set and dictionary"
   ]
  },
  {
   "cell_type": "code",
   "execution_count": 4,
   "metadata": {},
   "outputs": [],
   "source": [
    "# String\n",
    "x=10 #integer\n",
    "y=23.56 #float\n",
    "z=5+8j #complex\n",
    "b=True #boolean\n",
    "f=False #boolean\n",
    "name=\"axrfdnhfyrt$$$1234\" #string"
   ]
  },
  {
   "cell_type": "markdown",
   "metadata": {},
   "source": [
    "## Datatypes:\n",
    "### 1.Fundamental DT--->int,float,comple,boolean and string\n",
    "### 2.Collection DT--->list,tuple,set and dictionary"
   ]
  },
  {
   "cell_type": "code",
   "execution_count": 5,
   "metadata": {},
   "outputs": [
    {
     "name": "stdout",
     "output_type": "stream",
     "text": [
      "b\n",
      "xyz\n"
     ]
    }
   ],
   "source": [
    "str1=\"abcxyz\"\n",
    "print(str1[1]) #slice operator\n",
    "print(str1[3:]) #slice range operators"
   ]
  },
  {
   "cell_type": "code",
   "execution_count": 6,
   "metadata": {},
   "outputs": [
    {
     "name": "stdout",
     "output_type": "stream",
     "text": [
      "b\n",
      "xyz\n",
      "abcxyz123\n",
      "abcxyzabcxyzabcxyz\n",
      "z\n",
      "zyxcba\n",
      "True\n",
      "False\n",
      "False\n",
      "True\n"
     ]
    }
   ],
   "source": [
    "str1=\"abcxyz\"\n",
    "str2=\"123\"\n",
    "print(str1[1]) #slice operator\n",
    "print(str1[3:]) #slice range operators\n",
    "print(str1+str2) #concatenation\n",
    "print(str1*3) #repeatition\n",
    "print(str1[-1])\n",
    "print(str1[::-1])\n",
    "print(\"abc\" in str1)\n",
    "print(\"will\" in str1) #membership operators\n",
    "print(\"wyz\" in str1)\n",
    "print(\"will\" not in str1)"
   ]
  },
  {
   "cell_type": "code",
   "execution_count": 7,
   "metadata": {},
   "outputs": [
    {
     "name": "stdout",
     "output_type": "stream",
     "text": [
      "1\n",
      "2\n",
      "3\n",
      "4\n"
     ]
    }
   ],
   "source": [
    "list={1,2,3,4}\n",
    "for i in list:\n",
    "    print(i)"
   ]
  },
  {
   "cell_type": "code",
   "execution_count": null,
   "metadata": {},
   "outputs": [],
   "source": []
  }
 ],
 "metadata": {
  "kernelspec": {
   "display_name": "Python 3",
   "language": "python",
   "name": "python3"
  },
  "language_info": {
   "codemirror_mode": {
    "name": "ipython",
    "version": 3
   },
   "file_extension": ".py",
   "mimetype": "text/x-python",
   "name": "python",
   "nbconvert_exporter": "python",
   "pygments_lexer": "ipython3",
   "version": "3.7.3"
  }
 },
 "nbformat": 4,
 "nbformat_minor": 2
}
