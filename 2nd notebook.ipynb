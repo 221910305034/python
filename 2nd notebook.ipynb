{
 "cells": [
  {
   "cell_type": "code",
   "execution_count": 1,
   "metadata": {},
   "outputs": [
    {
     "name": "stdout",
     "output_type": "stream",
     "text": [
      "enter your nameaparna\n",
      "enter your age17\n",
      "hello, i am aparna\n",
      "my age is 17\n"
     ]
    }
   ],
   "source": [
    "name=input(\"enter your name\")\n",
    "age=input(\"enter your age\")\n",
    "print(\"hello, i am\",name)\n",
    "print(\"my age is\",age)"
   ]
  },
  {
   "cell_type": "code",
   "execution_count": 21,
   "metadata": {},
   "outputs": [
    {
     "name": "stdout",
     "output_type": "stream",
     "text": [
      "enter value x 20\n",
      "enter value of y 4\n",
      "sum of x+y is 24\n",
      "difference of x-y is 16\n",
      "multiplication of x*y is 80\n",
      "division of x/y is 5.0\n",
      "0\n",
      "5\n",
      "x to the power of y is 160000\n"
     ]
    }
   ],
   "source": [
    "x=int(input(\"enter value x \"))\n",
    "y=int(input(\"enter value of y \"))\n",
    "print(\"sum of x+y is\",x+y) # +, -, *, /, %\n",
    "print(\"difference of x-y is\",x-y)\n",
    "print(\"multiplication of x*y is\",x*y)\n",
    "print(\"division of x/y is\",x/y)\n",
    "print(x%y)\n",
    "print(x//y)\n",
    "print(\"x to the power of y is\",x**y)"
   ]
  },
  {
   "cell_type": "code",
   "execution_count": 24,
   "metadata": {},
   "outputs": [
    {
     "name": "stdout",
     "output_type": "stream",
     "text": [
      "enter value x 20\n",
      "enter value of y 2\n"
     ]
    }
   ],
   "source": [
    "x=int(input(\"enter value x \"))\n",
    "y=int(input(\"enter value of y \"))"
   ]
  },
  {
   "cell_type": "code",
   "execution_count": 25,
   "metadata": {},
   "outputs": [
    {
     "name": "stdout",
     "output_type": "stream",
     "text": [
      "22\n",
      "18\n",
      "40\n",
      "10.0\n",
      "0\n",
      "10\n",
      "400\n"
     ]
    }
   ],
   "source": [
    "print(x+y)\n",
    "print(x-y)\n",
    "print(x*y)\n",
    "print(x/y)\n",
    "print(x%y)\n",
    "print(x//y)\n",
    "print(x**y)"
   ]
  },
  {
   "cell_type": "code",
   "execution_count": 34,
   "metadata": {},
   "outputs": [
    {
     "name": "stdout",
     "output_type": "stream",
     "text": [
      "enter name of the person kiki\n",
      "enter age of the person 22\n",
      "my name is kiki and my age is 22\n",
      "my name is:kiki and my age is:22\n"
     ]
    }
   ],
   "source": [
    "name=input(\"enter name of the person \") #name is a type of string\n",
    "age=int(input(\"enter age of the person \")) #age is a type of int\n",
    "print(\"my name is\",name,\"and my age is\",age)\n",
    "print(\"my name is:%s and my age is:%d\"%(name,age))"
   ]
  },
  {
   "cell_type": "code",
   "execution_count": 44,
   "metadata": {},
   "outputs": [
    {
     "name": "stdout",
     "output_type": "stream",
     "text": [
      "123\n",
      "xyz\n"
     ]
    }
   ],
   "source": [
    "x=\"abc123\"\n",
    "y='xyz'\n",
    "print(x[3:])\n",
    "print(y[0:])"
   ]
  },
  {
   "cell_type": "markdown",
   "metadata": {},
   "source": [
    "## Arithmetic Operators"
   ]
  },
  {
   "cell_type": "code",
   "execution_count": 52,
   "metadata": {},
   "outputs": [
    {
     "name": "stdout",
     "output_type": "stream",
     "text": [
      "30\n",
      "-10\n",
      "200\n",
      "0.5\n",
      "0\n",
      "100\n",
      "10\n"
     ]
    }
   ],
   "source": [
    "# +,-,*,/,%,//,**\n",
    "x=10\n",
    "y=20\n",
    "print(x+y)\n",
    "print(x-y)\n",
    "print(x*y)\n",
    "print(x/y) #floating point value\n",
    "print(x//y) #int quotient\n",
    "print(x**2)\n",
    "print(x%y) #remainder"
   ]
  },
  {
   "cell_type": "markdown",
   "metadata": {},
   "source": [
    "### Relational Operators <,>,<=,>=,==,!="
   ]
  },
  {
   "cell_type": "code",
   "execution_count": 58,
   "metadata": {},
   "outputs": [
    {
     "data": {
      "text/plain": [
       "False"
      ]
     },
     "execution_count": 58,
     "metadata": {},
     "output_type": "execute_result"
    }
   ],
   "source": [
    "x=30\n",
    "y=20\n",
    "x<y"
   ]
  },
  {
   "cell_type": "code",
   "execution_count": 59,
   "metadata": {},
   "outputs": [
    {
     "data": {
      "text/plain": [
       "True"
      ]
     },
     "execution_count": 59,
     "metadata": {},
     "output_type": "execute_result"
    }
   ],
   "source": [
    "x=66\n",
    "y=55\n",
    "x>y"
   ]
  },
  {
   "cell_type": "code",
   "execution_count": 1,
   "metadata": {},
   "outputs": [
    {
     "data": {
      "text/plain": [
       "True"
      ]
     },
     "execution_count": 1,
     "metadata": {},
     "output_type": "execute_result"
    }
   ],
   "source": [
    "x=39\n",
    "y=23\n",
    "x!=y"
   ]
  },
  {
   "cell_type": "code",
   "execution_count": 55,
   "metadata": {},
   "outputs": [
    {
     "data": {
      "text/plain": [
       "True"
      ]
     },
     "execution_count": 55,
     "metadata": {},
     "output_type": "execute_result"
    }
   ],
   "source": [
    "x=35\n",
    "y=54\n",
    "x<=y"
   ]
  },
  {
   "cell_type": "code",
   "execution_count": 56,
   "metadata": {},
   "outputs": [
    {
     "data": {
      "text/plain": [
       "True"
      ]
     },
     "execution_count": 56,
     "metadata": {},
     "output_type": "execute_result"
    }
   ],
   "source": [
    "x=90\n",
    "y=87\n",
    "x>=y"
   ]
  },
  {
   "cell_type": "code",
   "execution_count": 60,
   "metadata": {},
   "outputs": [
    {
     "data": {
      "text/plain": [
       "False"
      ]
     },
     "execution_count": 60,
     "metadata": {},
     "output_type": "execute_result"
    }
   ],
   "source": [
    "x=50\n",
    "y=55\n",
    "x==y"
   ]
  },
  {
   "cell_type": "markdown",
   "metadata": {},
   "source": [
    "### Assignment Operators =,+=,-=,*=,/=,//=,**=,%="
   ]
  },
  {
   "cell_type": "code",
   "execution_count": 76,
   "metadata": {},
   "outputs": [
    {
     "name": "stdout",
     "output_type": "stream",
     "text": [
      "10\n",
      "11\n",
      "10\n",
      "9\n",
      "18\n",
      "6\n",
      "36\n",
      "20\n",
      "21\n"
     ]
    }
   ],
   "source": [
    "x=10\n",
    "y=20\n",
    "print(x)\n",
    "x+=1 #x=x+1\n",
    "print(x)\n",
    "x-=1 #x=x-1\n",
    "print(x)\n",
    "x-=1\n",
    "print(x)\n",
    "x*=2\n",
    "print(x)\n",
    "x//=3\n",
    "print(x)\n",
    "x**=2\n",
    "print(x)\n",
    "print(y)\n",
    "y+=1\n",
    "print(y)"
   ]
  },
  {
   "cell_type": "markdown",
   "metadata": {},
   "source": [
    "### Logical Operators: and,or,not"
   ]
  },
  {
   "cell_type": "code",
   "execution_count": 81,
   "metadata": {},
   "outputs": [
    {
     "data": {
      "text/plain": [
       "False"
      ]
     },
     "execution_count": 81,
     "metadata": {},
     "output_type": "execute_result"
    }
   ],
   "source": [
    "x=19\n",
    "y=29\n",
    "z=30\n",
    "x<y and x>z"
   ]
  },
  {
   "cell_type": "code",
   "execution_count": 88,
   "metadata": {},
   "outputs": [
    {
     "data": {
      "text/plain": [
       "False"
      ]
     },
     "execution_count": 88,
     "metadata": {},
     "output_type": "execute_result"
    }
   ],
   "source": [
    "x=15\n",
    "y=15\n",
    "z=9\n",
    "not x"
   ]
  },
  {
   "cell_type": "code",
   "execution_count": 86,
   "metadata": {},
   "outputs": [
    {
     "name": "stdout",
     "output_type": "stream",
     "text": [
      "True\n",
      "True\n",
      "False\n"
     ]
    }
   ],
   "source": [
    "x=56\n",
    "y=34\n",
    "z=35\n",
    "print(x>10 and y>30 and z>30)\n",
    "print(x>40 or y<30)\n",
    "print(not(x>40 or y<30))"
   ]
  },
  {
   "cell_type": "markdown",
   "metadata": {},
   "source": [
    "### Conditional Statements"
   ]
  },
  {
   "cell_type": "code",
   "execution_count": 99,
   "metadata": {},
   "outputs": [
    {
     "name": "stdout",
     "output_type": "stream",
     "text": [
      "pass\n"
     ]
    }
   ],
   "source": [
    "x=56\n",
    "y=34\n",
    "z=35\n",
    "if (x>30 and y>30 and z>30):\n",
    "    print(\"pass\")\n",
    "else:\n",
    "    print(\"fail\")"
   ]
  },
  {
   "cell_type": "code",
   "execution_count": null,
   "metadata": {},
   "outputs": [],
   "source": []
  }
 ],
 "metadata": {
  "kernelspec": {
   "display_name": "Python 3",
   "language": "python",
   "name": "python3"
  },
  "language_info": {
   "codemirror_mode": {
    "name": "ipython",
    "version": 3
   },
   "file_extension": ".py",
   "mimetype": "text/x-python",
   "name": "python",
   "nbconvert_exporter": "python",
   "pygments_lexer": "ipython3",
   "version": "3.7.3"
  }
 },
 "nbformat": 4,
 "nbformat_minor": 2
}
