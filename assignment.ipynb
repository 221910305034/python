{
 "cells": [
  {
   "cell_type": "markdown",
   "metadata": {},
   "source": [
    "# Diophantine reciprocals I\n",
    "## In the following equation x, y, and n are positive integers.\n",
    "### 1/x+1/y=1/n\n",
    "### For n = 4 there are exactly three distinct solutions:\n",
    "### 1/5+1/20=1/4\n",
    "### 1/6+1/12=1/4\n",
    "### 1/8+1/8=1/4\n",
    "### What is the least value of n for which the number of distinct solutions exceeds one-thousand"
   ]
  },
  {
   "cell_type": "code",
   "execution_count": null,
   "metadata": {},
   "outputs": [],
   "source": []
  }
 ],
 "metadata": {
  "kernelspec": {
   "display_name": "Python 3",
   "language": "python",
   "name": "python3"
  },
  "language_info": {
   "codemirror_mode": {
    "name": "ipython",
    "version": 3
   },
   "file_extension": ".py",
   "mimetype": "text/x-python",
   "name": "python",
   "nbconvert_exporter": "python",
   "pygments_lexer": "ipython3",
   "version": "3.7.3"
  }
 },
 "nbformat": 4,
 "nbformat_minor": 2
}
